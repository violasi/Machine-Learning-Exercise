{
 "cells": [
  {
   "cell_type": "markdown",
   "metadata": {},
   "source": [
    "### Use gradient descent to find local minima\n",
    "Consider loss function L(w) with one parameter w:\n",
    "$$w^{*} = arg\\,\\min_{w}L(w)$$\n",
    "1. (randomly) pick an intial value $w^{0}$\n",
    "2. compute $\\left.\\frac{dL}{dw}\\right|_{w=w^{0}}$\n",
    "$$w^{1} = w^{0} - \\eta\\left.\\frac{dL}{dw}\\right|_{w=w^{0}}$$\n",
    "3. compute $\\left.\\frac{dL}{dw}\\right|_{w=w^{1}}$\n",
    "$$w^{2} = w^{1} - \\eta\\left.\\frac{dL}{dw}\\right|_{w=w^{1}}$$"
   ]
  },
  {
   "cell_type": "markdown",
   "metadata": {},
   "source": [
    "gradient: $\\nabla L = \\left[\\frac{\\frac{\\partial L}{\\partial w}}{\\frac{\\partial L}{\\partial b}}\\right]$"
   ]
  },
  {
   "cell_type": "markdown",
   "metadata": {},
   "source": [
    "Loss function of linear regression is convex.\n",
    "$$L(w,b)=\\sum_{n=1}^N (\\hat y^{n}-(b+w\\cdot x_{cp}^{n})^{2}$$\n",
    "$$w^{*},b^{*} = arg\\,\\min_{w,b}L(w,b)$$\n",
    "$$\\frac{\\partial L}{\\partial w}=\\sum_{n=1}^N 2(\\hat y^{n}-(b+w\\cdot x_{cp}^{n})(-x_{cp}^{n})$$\n",
    "$$\\frac{\\partial L}{\\partial b}=\\sum_{n=1}^N 2(\\hat y^{n}-(b+w\\cdot x_{cp}^{n})$$"
   ]
  },
  {
   "cell_type": "code",
   "execution_count": 35,
   "metadata": {},
   "outputs": [
    {
     "name": "stdout",
     "output_type": "stream",
     "text": [
      "[338.0, 333.0, 328.0, 207.0, 226.0, 25.0, 179.0, 60.0, 208.0, 606.0]\n",
      "[640.0, 633.0, 619.0, 393.0, 428.0, 27.0, 193.0, 66.0, 226.0, 1591.0]\n"
     ]
    }
   ],
   "source": [
    "import numpy as np\n",
    "x_data = [338.,333.,328.,207.,226.,25.,179.,60.,208.,606.]\n",
    "y_data = [640.,633.,619.,393.,428.,27.,193.,66.,226.,1591.]\n",
    "print(x_data)\n",
    "print(y_data)"
   ]
  },
  {
   "cell_type": "code",
   "execution_count": 49,
   "metadata": {},
   "outputs": [],
   "source": [
    "x=np.arange(-200,-100,1)#bias\n",
    "y=np.arange(-5,5,0.1)#weight\n",
    "Z=np.zeros((len(x),len(y)))\n",
    "X,Y=np.meshgrid(x,y)\n",
    "for i in range(len(x)):\n",
    "    for j in range(len(y)):\n",
    "        b=x[i]\n",
    "        w=y[j]\n",
    "        Z[j][i]=0\n",
    "        for n in range(len(x_data)):\n",
    "            Z[j][i]=Z[j][i] + (y_data[n]-b-w*x_data[n])**2\n",
    "        Z[j][i]=Z[j][i]/len(x_data)"
   ]
  },
  {
   "cell_type": "code",
   "execution_count": 47,
   "metadata": {},
   "outputs": [],
   "source": [
    "b=-120\n",
    "w=-4\n",
    "lr=1 #learning rate\n",
    "iteration=200000\n",
    "\n",
    "b_history=[b]\n",
    "w_history=[w]\n",
    "\n",
    "lr_b=0\n",
    "lr_w=0\n",
    "\n",
    "for i in range(iteration):\n",
    "    b_grad = 0.0\n",
    "    w_grad = 0.0\n",
    "    for n in range(len(x_data)):\n",
    "        b_grad = b_grad - 2.0 * (y_data[n] - b - w*x_data[n])*1.0\n",
    "        w_grad = w_grad - 2.0 * (y_data[n] - b - w*x_data[n])*x_data[n]\n",
    "        \n",
    "        lr_b = lr_b + b_grad **2\n",
    "        lr_w = lr_w + w_grad **2\n",
    "    #update parameters\n",
    "    b=b-lr/np.sqrt(lr_b)*b_grad\n",
    "    w=w-lr/np.sqrt(lr_w)*w_grad\n",
    "    \n",
    "    b_history.append(b)\n",
    "    w_history.append(w)\n"
   ]
  },
  {
   "cell_type": "code",
   "execution_count": 48,
   "metadata": {},
   "outputs": [
    {
     "data": {
      "image/png": "[encoded data removed]",
      "text/plain": [
       "<matplotlib.figure.Figure at 0x1fb1478f198>"
      ]
     },
     "metadata": {},
     "output_type": "display_data"
    }
   ],
   "source": [
    "import matplotlib.pyplot as plt\n",
    "plt.contourf(x,y,Z,50,alpha=0.5,cmap=plt.get_cmap('jet'))\n",
    "plt.plot([-188.4],[2.67],'x',ms=12,markeredgewidth=3,color='orange')\n",
    "plt.plot(b_history,w_history,'o-',ms=3,lw=1.5,color='black')\n",
    "plt.xlim(-200,-100)\n",
    "plt.ylim(-5,5)\n",
    "plt.xlabel(r'$b$',fontsize=16)\n",
    "plt.ylabel(r'$w$',fontsize=16)\n",
    "plt.show()"
   ]
  }
 ],
 "metadata": {
  "kernelspec": {
   "display_name": "Python 3",
   "language": "python",
   "name": "python3"
  },
  "language_info": {
   "codemirror_mode": {
    "name": "ipython",
    "version": 3
   },
   "file_extension": ".py",
   "mimetype": "text/x-python",
   "name": "python",
   "nbconvert_exporter": "python",
   "pygments_lexer": "ipython3",
   "version": "3.6.4"
  }
 },
 "nbformat": 4,
 "nbformat_minor": 2
}
